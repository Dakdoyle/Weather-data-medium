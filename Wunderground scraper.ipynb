{
 "cells": [
  {
   "attachments": {},
   "cell_type": "markdown",
   "metadata": {},
   "source": [
    "Import necessary libraries."
   ]
  },
  {
   "cell_type": "code",
   "execution_count": 217,
   "metadata": {},
   "outputs": [],
   "source": [
    "import requests\n",
    "from bs4 import BeautifulSoup\n",
    "import csv\n",
    "import pandas as pd\n",
    "import re\n"
   ]
  },
  {
   "attachments": {},
   "cell_type": "markdown",
   "metadata": {},
   "source": [
    "Make a GET request to the URL and extract the HTML content"
   ]
  },
  {
   "cell_type": "code",
   "execution_count": 218,
   "metadata": {},
   "outputs": [],
   "source": [
    "# Define the URL we want to access\n",
    "url = 'https://www.wunderground.com/dashboard/pws/IFLETC15/table/2023-03-10/2023-03-10/monthly'\n",
    "\n",
    "# Use the requests library to get the content of the URL\n",
    "response = requests.get(url)\n",
    "\n",
    "# Extract the content of the response object\n",
    "html_content = response.content\n"
   ]
  },
  {
   "attachments": {},
   "cell_type": "markdown",
   "metadata": {},
   "source": [
    "Parse the HTML content using BeautifulSoup"
   ]
  },
  {
   "cell_type": "code",
   "execution_count": 219,
   "metadata": {},
   "outputs": [],
   "source": [
    "soup = BeautifulSoup(html_content, 'html.parser')\n"
   ]
  },
  {
   "attachments": {},
   "cell_type": "markdown",
   "metadata": {},
   "source": [
    "Find the table you want to scrape using the CSS selector\n"
   ]
  },
  {
   "cell_type": "code",
   "execution_count": 220,
   "metadata": {},
   "outputs": [],
   "source": [
    "# Select the table element that contains the weather data\n",
    "table = soup.select_one('#main-page-content > div > div > div > lib-history > div.history-tabs > lib-history-table > div > div > div > table')"
   ]
  },
  {
   "attachments": {},
   "cell_type": "markdown",
   "metadata": {},
   "source": [
    "Extract the table headers"
   ]
  },
  {
   "cell_type": "code",
   "execution_count": 221,
   "metadata": {},
   "outputs": [],
   "source": [
    "# Create an empty list for the headers.\n",
    "headers = []\n",
    "# This code block extracts the headers of the table from the second row of the table's header.\n",
    "for th in table.select('thead tr')[1].select('th'):\n",
    "    if th.has_attr('colspan'):\n",
    "        headers += [th.text.strip()] * int(th['colspan'])\n",
    "    else:\n",
    "        headers.append(th.text.strip())\n",
    "# Extract the table rows\n",
    "rows = table.select('tbody tr')"
   ]
  },
  {
   "attachments": {},
   "cell_type": "markdown",
   "metadata": {},
   "source": [
    "Create an empty list to store the data and create the initial data frame."
   ]
  },
  {
   "cell_type": "code",
   "execution_count": 222,
   "metadata": {},
   "outputs": [],
   "source": [
    "data_list = []\n",
    "# Extracting data from each row of the table and appending it to a list.\n",
    "for row in rows:\n",
    "    cells = row.select('td')\n",
    "    data = [cell.text.strip() for cell in cells]\n",
    "    data_list.append(data)\n",
    "\n",
    "# Create a data frame\n",
    "df = pd.DataFrame(data_list, columns=headers)\n"
   ]
  },
  {
   "attachments": {},
   "cell_type": "markdown",
   "metadata": {},
   "source": [
    "Rename the column names, to be identifiable by the measure. "
   ]
  },
  {
   "cell_type": "code",
   "execution_count": 223,
   "metadata": {},
   "outputs": [],
   "source": [
    "# Create new column names\n",
    "column_names = ['Date', 'High_1', 'Avg_1', 'Low_1', 'High_2', 'Avg_2', 'Low_2', 'High_3', 'Avg_3', 'Low_3', 'High_4', 'Avg_4', 'Low_4', 'High_5', 'Low_5', 'Sum']\n",
    "df.columns = column_names\n",
    "\n",
    "# Rename the columns \n",
    "df = df.rename(columns={\n",
    "    'High_1': 'MAX_temp',\n",
    "    'Avg_1': 'AVG_temp',\n",
    "    'Low_1': 'MIN_temp',\n",
    "    'High_2': 'MAX_dew_point',\n",
    "    'Avg_2': 'AVG_dew_point',\n",
    "    'Low_2': 'MIN_dew_point',\n",
    "    'High_3': 'MAX_humidity',\n",
    "    'Avg_3': 'AVG_humidity',\n",
    "    'Low_3': 'MIN_humidity',\n",
    "    'High_4': 'MAX_wind_speed',\n",
    "    'Avg_4': 'AVG_wind_speed',\n",
    "    'Low_4': 'MIN_wind_speed',\n",
    "    'High_5': 'MAX_pressure',\n",
    "    'Low_5': 'MIN_pressure',\n",
    "    'Sum': 'SUM_precipitation'\n",
    "})\n"
   ]
  },
  {
   "attachments": {},
   "cell_type": "markdown",
   "metadata": {},
   "source": [
    "Convert the date from MM/DD/YYYY to DD/MM/YYYY (optional step, dependant on desired format)"
   ]
  },
  {
   "cell_type": "code",
   "execution_count": 224,
   "metadata": {},
   "outputs": [],
   "source": [
    "df['Date'] = pd.to_datetime(df['Date'], format='%m/%d/%Y')\n",
    "# Convert the Date column to the desired format\n",
    "df['Date'] = df['Date'].dt.strftime('%d/%m/%Y')"
   ]
  },
  {
   "attachments": {},
   "cell_type": "markdown",
   "metadata": {},
   "source": [
    "Create a function to convert from Fahrenheit to Celsius  (optional step, dependant on desired format)"
   ]
  },
  {
   "cell_type": "code",
   "execution_count": 225,
   "metadata": {},
   "outputs": [],
   "source": [
    "def convert_temp(temp_str):\n",
    "    temp_f = float(temp_str.split('\\xa0')[0])\n",
    "    temp_c = (temp_f - 32) * 5 / 9\n",
    "    return round(temp_c, 1)\n",
    "\n",
    "# Apply the function to the temperature columns\n",
    "df['MAX_temp'] = df['MAX_temp'].apply(convert_temp)\n",
    "df['AVG_temp'] = df['AVG_temp'].apply(convert_temp)\n",
    "df['MIN_temp'] = df['MIN_temp'].apply(convert_temp)\n",
    "df['MAX_dew_point'] = df['MAX_dew_point'].apply(convert_temp)\n",
    "df['AVG_dew_point'] = df['AVG_dew_point'].apply(convert_temp)\n",
    "df['MIN_dew_point'] = df['MIN_dew_point'].apply(convert_temp)\n",
    "\n"
   ]
  },
  {
   "attachments": {},
   "cell_type": "markdown",
   "metadata": {},
   "source": [
    "Create a function to trim the humidity field and convert it to a float %"
   ]
  },
  {
   "cell_type": "code",
   "execution_count": 226,
   "metadata": {},
   "outputs": [],
   "source": [
    "def extract_humidity(humidity_str):\n",
    "    humidity_str = humidity_str.split(' ')[0]\n",
    "    humidity_str = ''.join(filter(str.isdigit, humidity_str))\n",
    "    return float(humidity_str) / 100\n",
    "\n",
    "# Apply the function to the humidity columns\n",
    "df['MAX_humidity'] = df['MAX_humidity'].apply(extract_humidity)\n",
    "df['AVG_humidity'] = df['AVG_humidity'].apply(extract_humidity)\n",
    "df['MIN_humidity'] = df['MIN_humidity'].apply(extract_humidity)\n",
    "\n"
   ]
  },
  {
   "attachments": {},
   "cell_type": "markdown",
   "metadata": {},
   "source": [
    "Create a function to convert from miles per hour, to kilometres per hour. (optional step, dependant on desired format)"
   ]
  },
  {
   "cell_type": "code",
   "execution_count": 227,
   "metadata": {},
   "outputs": [],
   "source": [
    "def convert_wind_speed(wind_speed_str):\n",
    "    wind_speed_str = wind_speed_str.replace(u'\\xa0', ' ')\n",
    "    wind_speed_mph = float(wind_speed_str.split(' ')[0])\n",
    "    wind_speed_kmph = wind_speed_mph * 1.60934\n",
    "    return round(wind_speed_kmph, 1)\n",
    "\n",
    "# Apply the function to the wind speed columns. \n",
    "df['MAX_wind_speed'] = df['MAX_wind_speed'].apply(convert_wind_speed)\n",
    "df['AVG_wind_speed'] = df['AVG_wind_speed'].apply(convert_wind_speed)\n",
    "df['MIN_wind_speed'] = df['MIN_wind_speed'].apply(convert_wind_speed)\n"
   ]
  },
  {
   "attachments": {},
   "cell_type": "markdown",
   "metadata": {},
   "source": [
    "Create a function to convert from  inches of mercury (inHg) to hectopascals (hPa)."
   ]
  },
  {
   "cell_type": "code",
   "execution_count": 228,
   "metadata": {},
   "outputs": [],
   "source": [
    "def convert_pressure(pressure_str):\n",
    "    # Remove non-numeric characters from the pressure string\n",
    "    pressure_num_str = re.sub(r'[^\\d\\.]', '', pressure_str)\n",
    "    # Convert the numeric string to a float\n",
    "    pressure_in = float(pressure_num_str) \n",
    "    # Convert pressure from inches of mercury to hectopascals\n",
    "    pressure_hpa = pressure_in * 33.86389\n",
    "    return round(pressure_hpa, 2)\n",
    "\n",
    "# Apply the function to the pressure columns. \n",
    "df['MAX_pressure'] = df['MAX_pressure'].apply(convert_pressure)\n",
    "df['MIN_pressure'] = df['MIN_pressure'].apply(convert_pressure)"
   ]
  },
  {
   "attachments": {},
   "cell_type": "markdown",
   "metadata": {},
   "source": [
    "Create a function to convert from inches to millimetres. (optional step, dependant on desired format)"
   ]
  },
  {
   "cell_type": "code",
   "execution_count": 229,
   "metadata": {},
   "outputs": [],
   "source": [
    "def convert_precipitation(precip_str):\n",
    "    precip_num_str = re.sub(r'[^\\d\\.]', '', precip_str)\n",
    "    precip_in = float(precip_num_str)\n",
    "    precip_mm = precip_in * 25.4\n",
    "    return round(precip_mm, 2)\n",
    "\n",
    "# Apply the function to the precipitation columns.\n",
    "df['SUM_precipitation'] = df['SUM_precipitation'].apply(lambda x: x.strip().split(' ')[0]).apply(convert_precipitation)\n"
   ]
  },
  {
   "attachments": {},
   "cell_type": "markdown",
   "metadata": {},
   "source": [
    "Write to a csv "
   ]
  },
  {
   "cell_type": "code",
   "execution_count": 230,
   "metadata": {},
   "outputs": [],
   "source": [
    "df.to_csv('daks_weather_data.csv', index=False)\n"
   ]
  }
 ],
 "metadata": {
  "kernelspec": {
   "display_name": "Python 3",
   "language": "python",
   "name": "python3"
  },
  "language_info": {
   "codemirror_mode": {
    "name": "ipython",
    "version": 3
   },
   "file_extension": ".py",
   "mimetype": "text/x-python",
   "name": "python",
   "nbconvert_exporter": "python",
   "pygments_lexer": "ipython3",
   "version": "3.10.10"
  },
  "orig_nbformat": 4
 },
 "nbformat": 4,
 "nbformat_minor": 2
}
